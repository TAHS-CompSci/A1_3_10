{
 "cells": [
  {
   "cell_type": "code",
   "execution_count": 6,
   "metadata": {},
   "outputs": [
    {
     "data": {
      "text/plain": [
       "'b'"
      ]
     },
     "execution_count": 6,
     "metadata": {},
     "output_type": "execute_result"
    }
   ],
   "source": [
    "my_history = ('b','b')\n",
    "their_history = ('c','b','c')\n",
    "my_score = 0\n",
    "their_score = 0\n",
    "\n",
    "def move(my_history, their_history, my_score, their_score):\n",
    "    if len(their_history) <= 3:\n",
    "        return 'c'\n",
    "    while len(their_history) >= 4:\n",
    "        if their_history[-1] == 'c' and their_history[-2] == 'c':\n",
    "            return \"c\"   \n",
    "        elif their_history[-1:-3] == 'b':\n",
    "            return 'b'\n",
    "        elif their_history[-1:-3] == 'c':\n",
    "            return 'c'\n",
    "        elif their_history[-1] == their_history[-3] and their_history[-2] == their_history[-4]:\n",
    "            if their_history[-1] == 'c':\n",
    "                return 'b'\n",
    "            else:\n",
    "                return 'b'\n",
    "        else:\n",
    "            return 'b'\n",
    "    \n",
    "move(my_history, their_history, my_score, their_score)"
   ]
  },
  {
   "cell_type": "code",
   "execution_count": null,
   "metadata": {},
   "outputs": [],
   "source": [
    "def move(my_history, their_history, my_score, their_score):\n",
    "    while len(their_history) >= 4:\n",
    "        if their_history[-1] == 'c' and their_history[-2] == 'c':\n",
    "            return \"c\"   \n",
    "        elif their_history[-1:-3] == 'b':\n",
    "            return 'b'\n",
    "        elif their_history[-1:-3] == 'c':\n",
    "            return 'c'\n",
    "        elif their_history[-1] == their_history[-3] and their_history[-2] == their_history[-4]:\n",
    "            if their_history[-1] == 'c':\n",
    "                return 'b'\n",
    "            else:\n",
    "                return 'b'\n",
    "        else:\n",
    "            return 'b'\n",
    "    else:\n",
    "        return 'b'"
   ]
  }
 ],
 "metadata": {
  "kernelspec": {
   "display_name": "Python 3",
   "language": "python",
   "name": "python3"
  },
  "language_info": {
   "codemirror_mode": {
    "name": "ipython",
    "version": 3
   },
   "file_extension": ".py",
   "mimetype": "text/x-python",
   "name": "python",
   "nbconvert_exporter": "python",
   "pygments_lexer": "ipython3",
   "version": "3.7.4"
  }
 },
 "nbformat": 4,
 "nbformat_minor": 2
}
