{
 "cells": [
  {
   "cell_type": "code",
   "execution_count": 7,
   "metadata": {},
   "outputs": [
    {
     "name": "stdout",
     "output_type": "stream",
     "text": [
      "move('', '', 0, 0) returned 'c' and should have returned 'b'\n",
      "move('bbb', 'ccc', 0, 0) returned 'c' and should have returned 'b'\n"
     ]
    }
   ],
   "source": [
    "####\n",
    "# Each team's file must define four tokens:\n",
    "#     team_name: a string\n",
    "#     strategy_name: a string\n",
    "#     strategy_description: a string\n",
    "#     move: A function that returns 'c' or 'b'\n",
    "####\n",
    "\n",
    "team_name = 'The name the team gives to itself' # Only 10 chars displayed.\n",
    "strategy_name = 'The name the team gives to this strategy'\n",
    "strategy_description = 'How does this strategy decide?'\n",
    "    \n",
    "def move(my_history, their_history, my_score, their_score):\n",
    "    ''' Arguments accepted: my_history, their_history are strings.\n",
    "    my_score, their_score are ints.\n",
    "    \n",
    "    Make my move.\n",
    "    Returns 'c' or 'b'. \n",
    "    '''\n",
    "\n",
    "    # my_history: a string with one letter (c or b) per round that has been played with this opponent.\n",
    "    # their_history: a string of the same length as history, possibly empty. \n",
    "    # The first round between these two players is my_history[0] and their_history[0].\n",
    "    # The most recent round is my_history[-1] and their_history[-1].\n",
    "    \n",
    "    # Analyze my_history and their_history and/or my_score and their_score.\n",
    "    # Decide whether to return 'c' or 'b'.\n",
    "    \n",
    "    return 'c'\n",
    "\n",
    "    \n",
    "def test_move(my_history, their_history, my_score, their_score, result):\n",
    "    '''calls move(my_history, their_history, my_score, their_score)\n",
    "    from this module. Prints error if return value != result.\n",
    "    Returns True or False, dpending on whether result was as expected.\n",
    "    '''\n",
    "    real_result = move(my_history, their_history, my_score, their_score)\n",
    "    if real_result == result:\n",
    "        return True\n",
    "    else:\n",
    "        print(\"move(\" +\n",
    "            \", \".join([\"'\"+my_history+\"'\", \"'\"+their_history+\"'\",\n",
    "                       str(my_score), str(their_score)])+\n",
    "            \") returned \" + \"'\" + real_result + \"'\" +\n",
    "            \" and should have returned '\" + result + \"'\")\n",
    "        return False\n",
    "\n",
    "if __name__ == '__main__':\n",
    "     \n",
    "    # Test 1: Betray on first move.\n",
    "    if test_move(my_history='',\n",
    "              their_history='', \n",
    "              my_score=0,\n",
    "              their_score=0,\n",
    "              result='b'):\n",
    "         print('Test Passed')\n",
    "     # Test 2: Continue betraying if they collude despite being betrayed.\n",
    "    test_move(my_history='bbb',\n",
    "              their_history='ccc', \n",
    "              # Note the scores are for testing move().\n",
    "              # The history and scores don't need to match unless\n",
    "              # that is relevant to the test of move(). Here,\n",
    "              # the simulation (if working correctly) would have awarded \n",
    "              # 300 to me and -750 to them. This test will pass if and only if\n",
    "              # move('bbb', 'ccc', 0, 0) returns 'b'.\n",
    "              my_score=0, \n",
    "              their_score=0,\n",
    "              result='b')             \n"
   ]
  },
  {
   "cell_type": "code",
   "execution_count": null,
   "metadata": {},
   "outputs": [],
   "source": []
  }
 ],
 "metadata": {
  "kernelspec": {
   "display_name": "Python 3",
   "language": "python",
   "name": "python3"
  },
  "language_info": {
   "codemirror_mode": {
    "name": "ipython",
    "version": 3
   },
   "file_extension": ".py",
   "mimetype": "text/x-python",
   "name": "python",
   "nbconvert_exporter": "python",
   "pygments_lexer": "ipython3",
   "version": "3.7.4"
  }
 },
 "nbformat": 4,
 "nbformat_minor": 2
}
