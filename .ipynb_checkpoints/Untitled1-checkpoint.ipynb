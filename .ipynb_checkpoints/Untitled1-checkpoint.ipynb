{
 "cells": [
  {
   "cell_type": "code",
   "execution_count": null,
   "metadata": {},
   "outputs": [],
   "source": [
    "my_history = ('c','c','c')\n",
    "their_history = ('c','c','b','c')\n",
    "my_score = 0\n",
    "their_score = 0\n",
    "\n",
    "def move(my_history, their_history, my_score, their_score):\n",
    "    if len(my_history) <= 1:\n",
    "        return 'c'\n",
    "    if their_history[-1] == 'c' and their_history[-2] == 'c':\n",
    "        return \"c\"   \n",
    "    if their_history[-1:-4] == 'b':\n",
    "        return 'b'\n",
    "    elif their_history[-1:-4] == 'c':\n",
    "        return 'c'\n",
    "    while len(their_history) >= 4:\n",
    "        if their_history[-1] == their_history[-3] and their_history[-2] == their_history[-4]:\n",
    "            if their_history[-1] == 'c':\n",
    "                return 'b'\n",
    "            else:\n",
    "                return 'b'\n",
    "        else:\n",
    "            return 'b'\n",
    "    else:\n",
    "        return 'b'\n",
    "    \n",
    "move(my_history, their_history, my_score, their_score)"
   ]
  },
  {
   "cell_type": "code",
   "execution_count": null,
   "metadata": {},
   "outputs": [],
   "source": []
  }
 ],
 "metadata": {
  "kernelspec": {
   "display_name": "Python 3",
   "language": "python",
   "name": "python3"
  },
  "language_info": {
   "codemirror_mode": {
    "name": "ipython",
    "version": 3
   },
   "file_extension": ".py",
   "mimetype": "text/x-python",
   "name": "python",
   "nbconvert_exporter": "python",
   "pygments_lexer": "ipython3",
   "version": "3.7.4"
  }
 },
 "nbformat": 4,
 "nbformat_minor": 2
}
