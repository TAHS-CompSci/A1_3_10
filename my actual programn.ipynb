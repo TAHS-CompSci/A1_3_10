{
 "cells": [
  {
   "cell_type": "code",
   "execution_count": null,
   "metadata": {},
   "outputs": [],
   "source": [
    "team_name = 'golvedontfitcantconvic'\n",
    "strategy_name = 'how to win'\n",
    "strategy_description = 'betray and collude once then betray' \n",
    "def move(my_history, their_history, my_score, their_score):\n",
    "    if len(my_history)==o:\n",
    "        return 'b'\n",
    "    elif my_history[-1]=='b' and their_history[-1]=='c':\n",
    "        return 'b'\n",
    "    if my_history[-2]=='b' and their_history[-1]=='b':\n",
    "        return 'c'\n",
    "    else:\n",
    "        return 'b'"
   ]
  }
 ],
 "metadata": {
  "kernelspec": {
   "display_name": "Python 3",
   "language": "python",
   "name": "python3"
  },
  "language_info": {
   "codemirror_mode": {
    "name": "ipython",
    "version": 3
   },
   "file_extension": ".py",
   "mimetype": "text/x-python",
   "name": "python",
   "nbconvert_exporter": "python",
   "pygments_lexer": "ipython3",
   "version": "3.7.4"
  }
 },
 "nbformat": 4,
 "nbformat_minor": 2
}
